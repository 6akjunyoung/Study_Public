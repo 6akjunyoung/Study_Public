{
 "cells": [
  {
   "cell_type": "code",
   "execution_count": 1,
   "metadata": {
    "scrolled": true
   },
   "outputs": [
    {
     "name": "stderr",
     "output_type": "stream",
     "text": [
      "c:\\programdata\\anaconda3\\envs\\py37\\lib\\site-packages\\tensorflow\\python\\framework\\dtypes.py:526: FutureWarning: Passing (type, 1) or '1type' as a synonym of type is deprecated; in a future version of numpy, it will be understood as (type, (1,)) / '(1,)type'.\n",
      "  _np_qint8 = np.dtype([(\"qint8\", np.int8, 1)])\n",
      "c:\\programdata\\anaconda3\\envs\\py37\\lib\\site-packages\\tensorflow\\python\\framework\\dtypes.py:527: FutureWarning: Passing (type, 1) or '1type' as a synonym of type is deprecated; in a future version of numpy, it will be understood as (type, (1,)) / '(1,)type'.\n",
      "  _np_quint8 = np.dtype([(\"quint8\", np.uint8, 1)])\n",
      "c:\\programdata\\anaconda3\\envs\\py37\\lib\\site-packages\\tensorflow\\python\\framework\\dtypes.py:528: FutureWarning: Passing (type, 1) or '1type' as a synonym of type is deprecated; in a future version of numpy, it will be understood as (type, (1,)) / '(1,)type'.\n",
      "  _np_qint16 = np.dtype([(\"qint16\", np.int16, 1)])\n",
      "c:\\programdata\\anaconda3\\envs\\py37\\lib\\site-packages\\tensorflow\\python\\framework\\dtypes.py:529: FutureWarning: Passing (type, 1) or '1type' as a synonym of type is deprecated; in a future version of numpy, it will be understood as (type, (1,)) / '(1,)type'.\n",
      "  _np_quint16 = np.dtype([(\"quint16\", np.uint16, 1)])\n",
      "c:\\programdata\\anaconda3\\envs\\py37\\lib\\site-packages\\tensorflow\\python\\framework\\dtypes.py:530: FutureWarning: Passing (type, 1) or '1type' as a synonym of type is deprecated; in a future version of numpy, it will be understood as (type, (1,)) / '(1,)type'.\n",
      "  _np_qint32 = np.dtype([(\"qint32\", np.int32, 1)])\n",
      "c:\\programdata\\anaconda3\\envs\\py37\\lib\\site-packages\\tensorflow\\python\\framework\\dtypes.py:535: FutureWarning: Passing (type, 1) or '1type' as a synonym of type is deprecated; in a future version of numpy, it will be understood as (type, (1,)) / '(1,)type'.\n",
      "  np_resource = np.dtype([(\"resource\", np.ubyte, 1)])\n"
     ]
    }
   ],
   "source": [
    "import tensorflow as tf\n",
    "import numpy as np\n",
    "import random\n",
    "import os\n",
    "import matplotlib.pyplot as plt\n",
    "from glob import glob\n",
    "from PIL import Image\n",
    "import random\n",
    "import cv2\n",
    "import pdb"
   ]
  },
  {
   "cell_type": "code",
   "execution_count": 2,
   "metadata": {},
   "outputs": [],
   "source": [
    "label={\"bald_uakari\":0,\"black_headed_night_monkey\":1,\"common_squirrel_monkey\":2,\"japanese_macaque\":3,\"mantled_howler\":4,\n",
    "       \"nilgiri_langur\":5,\"patas_monkey\":6,\"pygmy_marmoset\":7,\"silvery_marmoset\":8, \"white_headed_capuchin\":9}\n",
    "\n",
    "train_img = []\n",
    "test_img = []\n",
    "val_img = []\n",
    "t = []\n",
    "y = []\n",
    "k=list(label.keys())"
   ]
  },
  {
   "cell_type": "code",
   "execution_count": 3,
   "metadata": {},
   "outputs": [
    {
     "data": {
      "text/plain": [
       "'bald_uakari'"
      ]
     },
     "execution_count": 3,
     "metadata": {},
     "output_type": "execute_result"
    }
   ],
   "source": [
    "k[label[\"bald_uakari\"]]"
   ]
  },
  {
   "cell_type": "code",
   "execution_count": 4,
   "metadata": {},
   "outputs": [
    {
     "data": {
      "text/plain": [
       "'sample\\\\bald_uakari\\\\12961458824_14a6951c26_w.jpg'"
      ]
     },
     "execution_count": 4,
     "metadata": {},
     "output_type": "execute_result"
    }
   ],
   "source": [
    "x=glob(\"sample/*/*.jpg\")\n",
    "x[0].split('\\\\')[-2]\n",
    "x[0]"
   ]
  },
  {
   "cell_type": "code",
   "execution_count": null,
   "metadata": {
    "scrolled": true
   },
   "outputs": [],
   "source": [
    "for i in range(10):\n",
    "    t={0:glob('sample/bald_uakari/*.jpg'),\n",
    "       1:glob('sample/black_headed_night_monkey/*.jpg'),\n",
    "       2:glob('sample/common_squirrel_monkey/*.jpg'),\n",
    "       3:glob('sample/japanese_macaque/*.jpg'),\n",
    "       4:glob('sample/mantled_howler/*.jpg'),\n",
    "       5:glob('sample/nilgiri_langur/*.jpg'),\n",
    "       6:glob('sample/patas_monkey/*.jpg'),\n",
    "       7:glob('sample/pygmy_marmoset/*.jpg'),\n",
    "       8:glob('sample/silvery_marmoset/*.jpg'),\n",
    "       9:glob('sample/white_headed_capuchin/*.jpg')}.get(i)\n",
    "    \n",
    "    random.shuffle(t)\n",
    "    lent = int(len(t)*0.8)\n",
    "\n",
    "    for j in range(lent):\n",
    "        train_img.append([cv2.resize(cv2.imread(t[0], cv2.IMREAD_COLOR), dsize=(128, 128), interpolation=cv2.INTER_AREA), \n",
    "                      label[t[0].split('\\\\')[-2].split('/')[-1]]])\n",
    "        train_img.append([cv2.resize(cv2.flip(cv2.imread(t[0], 1), cv2.IMREAD_COLOR), dsize=(128, 128), interpolation=cv2.INTER_AREA), \n",
    "                      label[t[0].split('\\\\')[-2].split('/')[-1]]])\n",
    "        t.pop(0)\n",
    "\n",
    "    lent = int(len(t)*0.5)\n",
    "    for j in range(lent):\n",
    "        val_img.append([cv2.resize(cv2.imread(t[0], cv2.IMREAD_COLOR), dsize=(128, 128), interpolation=cv2.INTER_AREA), \n",
    "                     label[t[0].split('\\\\')[-2].split('/')[-1]]])\n",
    "        t.pop(0)\n",
    "        \n",
    "    lent = len(t)\n",
    "    for j in range(lent):\n",
    "        test_img.append([cv2.resize(cv2.imread(t[0], cv2.IMREAD_COLOR), dsize=(128, 128), interpolation=cv2.INTER_AREA), \n",
    "                     label[t[0].split('\\\\')[-2].split('/')[-1]]])\n",
    "        t.pop(0)\n",
    "        \n",
    "    #test_img.append(cv2.flip(test_img[-1], 1))\n",
    "    \n",
    "    print (i, \" done\")\n"
   ]
  },
  {
   "cell_type": "code",
   "execution_count": null,
   "metadata": {},
   "outputs": [],
   "source": [
    "len(train_img)"
   ]
  },
  {
   "cell_type": "code",
   "execution_count": null,
   "metadata": {},
   "outputs": [],
   "source": [
    "len(test_img)"
   ]
  },
  {
   "cell_type": "code",
   "execution_count": null,
   "metadata": {},
   "outputs": [],
   "source": [
    "len(val_img)"
   ]
  },
  {
   "cell_type": "code",
   "execution_count": null,
   "metadata": {},
   "outputs": [],
   "source": [
    "random.shuffle(train_img)\n",
    "random.shuffle(test_img)\n",
    "random.shuffle(val_img)"
   ]
  },
  {
   "cell_type": "code",
   "execution_count": null,
   "metadata": {},
   "outputs": [],
   "source": [
    "plt.imshow(train_img[10][0])"
   ]
  },
  {
   "cell_type": "code",
   "execution_count": null,
   "metadata": {},
   "outputs": [],
   "source": [
    "k[train_img[10][1]]"
   ]
  },
  {
   "cell_type": "code",
   "execution_count": null,
   "metadata": {},
   "outputs": [],
   "source": [
    "IMG_H = 128\n",
    "IMG_W = 128\n",
    "IMG_C = 3\n",
    "\n",
    "num_class = 10\n"
   ]
  },
  {
   "cell_type": "code",
   "execution_count": null,
   "metadata": {},
   "outputs": [],
   "source": [
    "with tf.Graph().as_default() as tfgp:\n",
    "    X = tf.placeholder(tf.float32, [None, IMG_H, IMG_W, IMG_C])\n",
    "    Y = tf.placeholder(tf.int32, [None])\n",
    "\n",
    "    with tf.variable_scope('CNN'):\n",
    "        \n",
    "        layer = tf.layers.conv2d(X, 48, 5, (2, 2), activation=tf.nn.relu)\n",
    "        layer = tf.layers.max_pooling2d(layer, (2, 2), (2, 2))\n",
    "        layer = tf.layers.conv2d(layer, 128, 3, (1, 1), padding='same', activation=tf.nn.relu)        \n",
    "        layer = tf.layers.max_pooling2d(layer, (2, 2), (2, 2))\n",
    "        layer = tf.layers.conv2d(layer, 128, 3, (1, 1), padding='same', activation=tf.nn.relu)\n",
    "        layer = tf.layers.max_pooling2d(layer, (3, 3), (2, 2))\n",
    "        layer = tf.layers.conv2d(layer, 128, 3, (1, 1), padding='same', activation=tf.nn.relu)\n",
    "        layer = tf.layers.max_pooling2d(layer, (3, 3), (2, 2))\n",
    "        layer = tf.layers.flatten(layer)\n",
    "        \n",
    "        '''\n",
    "        net = tf.layers.conv2d(X, 20, 3, (2, 2), padding='same')\n",
    "        net = tf.layers.conv2d(net, 20, 3, (1, 1), padding='same')\n",
    "        net = tf.layers.max_pooling2d(net, (2, 2), (2, 2))\n",
    "        net = tf.layers.conv2d(net, 40, 3, (2, 2), padding='same')\n",
    "        net = tf.layers.conv2d(net, 40, 3, (1, 1), padding='same')\n",
    "        net = tf.layers.max_pooling2d(net, (2, 2), (2, 2))\n",
    "        net = tf.layers.conv2d(net, 80, 3, (1, 1), padding='same')\n",
    "        net = tf.layers.max_pooling2d(net, (2, 2), (2, 2))\n",
    "        net = tf.layers.conv2d(net, 80, 3, (1, 1), padding='same')\n",
    "        net = tf.layers.flatten(net)\n",
    "'''\n",
    "        #layer = tf.layers.dense(layer, 1024)\n",
    "        out = tf.layers.dense(layer, num_class)\n",
    "\n",
    "    with tf.variable_scope('Loss'):\n",
    "        loss = tf.reduce_mean(tf.nn.sparse_softmax_cross_entropy_with_logits(labels=Y, logits=out))\n",
    "\n",
    "    train = tf.train.AdamOptimizer(1e-3).minimize(loss)\n",
    "    saver = tf.train.Saver()"
   ]
  },
  {
   "cell_type": "code",
   "execution_count": null,
   "metadata": {},
   "outputs": [],
   "source": [
    "np.sum([np.product(var.shape) for var in tfgp.get_collection('trainable_variables')]).value"
   ]
  },
  {
   "cell_type": "code",
   "execution_count": null,
   "metadata": {},
   "outputs": [],
   "source": [
    "train_image = []\n",
    "train_label = []\n",
    "test_image = []\n",
    "test_label = []\n",
    "val_image = []\n",
    "val_label = []\n",
    "val = []\n",
    "tra = []\n",
    "cnt=0\n",
    "\n",
    "bs=128"
   ]
  },
  {
   "cell_type": "code",
   "execution_count": null,
   "metadata": {},
   "outputs": [],
   "source": [
    "lentrain = (len(train_img))\n",
    "len(test_image)"
   ]
  },
  {
   "cell_type": "code",
   "execution_count": null,
   "metadata": {},
   "outputs": [],
   "source": [
    "lenval = len(val_img)\n",
    "for i in range(lenval):\n",
    "    val_image.append(val_img[i][0])\n",
    "    val_label.append(val_img[i][1])"
   ]
  },
  {
   "cell_type": "code",
   "execution_count": null,
   "metadata": {
    "scrolled": true
   },
   "outputs": [],
   "source": [
    "with tf.Session(graph=tfgp) as sess:\n",
    "    sess.run(tf.global_variables_initializer())   \n",
    "    for i in range(17000):\n",
    "        #pdb.set_trace()\n",
    "        for j in range(bs):\n",
    "            train_image.append(train_img[0][0])\n",
    "            train_label.append(train_img[0][1])\n",
    "            train_img.append(train_img.pop(0))\n",
    "            \n",
    "        _, loss_t = sess.run([train, loss], feed_dict={X: train_image, Y: train_label})\n",
    "        #print(i, l)\n",
    "        tra.append(loss_t)\n",
    "\n",
    "        for j in range(bs):\n",
    "            train_image.pop(0)\n",
    "            train_label.pop(0)\n",
    "        \n",
    "        \n",
    "        if i%50==0:\n",
    "            loss_t = sess.run(loss, feed_dict={X: val_image, Y: val_label})\n",
    "            val.append(loss_t)\n",
    "    \n",
    "            print(\"[\", cnt*50, \"]\", val[-1])\n",
    "            cnt = cnt+1\n",
    "    \n",
    "    print(\"val: \", np.argmin(val))\n",
    "    saver.save(sess, 'logs/model.ckpt', global_step=i + 1)"
   ]
  },
  {
   "cell_type": "code",
   "execution_count": null,
   "metadata": {},
   "outputs": [],
   "source": [
    "for i in range(int(len(tra))):\n",
    "    print (\"[%d]\" %i, tra[i])"
   ]
  },
  {
   "cell_type": "code",
   "execution_count": null,
   "metadata": {},
   "outputs": [],
   "source": []
  },
  {
   "cell_type": "code",
   "execution_count": null,
   "metadata": {},
   "outputs": [],
   "source": [
    "acc = 0\n",
    "cnt = 1\n",
    "lentest = len(test_img)\n"
   ]
  },
  {
   "cell_type": "code",
   "execution_count": null,
   "metadata": {},
   "outputs": [],
   "source": [
    "lentest"
   ]
  },
  {
   "cell_type": "code",
   "execution_count": null,
   "metadata": {
    "scrolled": true
   },
   "outputs": [],
   "source": [
    "with tf.Session(graph=tfgp) as sess:\n",
    "    sess.run(tf.global_variables_initializer())\n",
    "    checkpoint = tf.train.latest_checkpoint('logs')\n",
    "    if checkpoint:\n",
    "        saver.restore(sess, checkpoint)\n",
    "    for i in range(lentest):\n",
    "        test_image.append(test_img[0][0])\n",
    "        logit = sess.run(out, feed_dict={X: test_image})\n",
    "        \n",
    "        if np.argmax(logit[0]) == test_img[0][1]:\n",
    "            acc += 1\n",
    "            cv2.imwrite(\"./true/%s%d.jpg\"%(k[test_img[0][1]],cnt), test_img[0][0])\n",
    "            cnt = cnt+1\n",
    "            \n",
    "        else:\n",
    "            print(logit[0], k[np.argmax(logit[0])], k[test_img[0][1]])\n",
    "            cv2.imwrite(\"./false/%s%d.jpg\"%(k[test_img[0][1]],cnt), test_img[0][0])\n",
    "            cnt = cnt+1\n",
    "            \n",
    "            #cv2.imshow(k[np.argmax(logit[0])], test_image[0])\n",
    "            #cv2.waitKey(0)\n",
    "            #cv2.destroyAllWindows()\n",
    "\n",
    "        test_img.append(test_img.pop(0))\n",
    "        test_image.pop(0)\n",
    "\n",
    "    print(acc / lentest)"
   ]
  },
  {
   "cell_type": "code",
   "execution_count": null,
   "metadata": {},
   "outputs": [],
   "source": []
  },
  {
   "cell_type": "code",
   "execution_count": null,
   "metadata": {},
   "outputs": [],
   "source": []
  },
  {
   "cell_type": "code",
   "execution_count": null,
   "metadata": {},
   "outputs": [],
   "source": []
  },
  {
   "cell_type": "code",
   "execution_count": null,
   "metadata": {},
   "outputs": [],
   "source": []
  },
  {
   "cell_type": "code",
   "execution_count": null,
   "metadata": {},
   "outputs": [],
   "source": []
  },
  {
   "cell_type": "code",
   "execution_count": null,
   "metadata": {},
   "outputs": [],
   "source": []
  },
  {
   "cell_type": "code",
   "execution_count": null,
   "metadata": {},
   "outputs": [],
   "source": []
  },
  {
   "cell_type": "code",
   "execution_count": null,
   "metadata": {},
   "outputs": [],
   "source": []
  },
  {
   "cell_type": "code",
   "execution_count": null,
   "metadata": {},
   "outputs": [],
   "source": []
  }
 ],
 "metadata": {
  "kernelspec": {
   "display_name": "Python 3",
   "language": "python",
   "name": "python3"
  },
  "language_info": {
   "codemirror_mode": {
    "name": "ipython",
    "version": 3
   },
   "file_extension": ".py",
   "mimetype": "text/x-python",
   "name": "python",
   "nbconvert_exporter": "python",
   "pygments_lexer": "ipython3",
   "version": "3.7.6"
  }
 },
 "nbformat": 4,
 "nbformat_minor": 4
}
