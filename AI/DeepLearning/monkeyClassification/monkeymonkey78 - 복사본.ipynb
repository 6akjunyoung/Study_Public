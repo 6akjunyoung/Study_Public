{
 "cells": [
  {
   "cell_type": "code",
   "execution_count": 26,
   "metadata": {
    "scrolled": true
   },
   "outputs": [],
   "source": [
    "import tensorflow as tf\n",
    "import numpy as np\n",
    "import random\n",
    "import os\n",
    "import matplotlib.pyplot as plt\n",
    "from glob import glob\n",
    "from PIL import Image\n",
    "import cv2\n",
    "import pdb"
   ]
  },
  {
   "cell_type": "code",
   "execution_count": null,
   "metadata": {},
   "outputs": [],
   "source": [
    "label={\"bald_uakari\":0,\"black_headed_night_monkey\":1,\"common_squirrel_monkey\":2,\"japanese_macaque\":3,\"mantled_howler\":4,\n",
    "       \"nilgiri_langur\":5,\"patas_monkey\":6,\"pygmy_marmoset\":7,\"silvery_marmoset\":8, \"white_headed_capuchin\":9}\n",
    "\n",
    "train_img = []\n",
    "test_img = []\n",
    "val_img = []\n",
    "t = []\n",
    "y = []\n",
    "k=list(label.keys())"
   ]
  },
  {
   "cell_type": "code",
   "execution_count": null,
   "metadata": {},
   "outputs": [],
   "source": [
    "k[label[\"bald_uakari\"]]"
   ]
  },
  {
   "cell_type": "code",
   "execution_count": null,
   "metadata": {},
   "outputs": [],
   "source": [
    "os.listdir(\"./sample\")"
   ]
  },
  {
   "cell_type": "code",
   "execution_count": null,
   "metadata": {
    "scrolled": false
   },
   "outputs": [],
   "source": [
    "for i in range(10):\n",
    "    t={0:glob('sample/bald_uakari/*.jpg'),\n",
    "       1:glob('sample/black_headed_night_monkey/*.jpg'),\n",
    "       2:glob('sample/common_squirrel_monkey/*.jpg'),\n",
    "       3:glob('sample/japanese_macaque/*.jpg'),\n",
    "       4:glob('sample/mantled_howler/*.jpg'),\n",
    "       5:glob('sample/nilgiri_langur/*.jpg'),\n",
    "       6:glob('sample/patas_monkey/*.jpg'),\n",
    "       7:glob('sample/pygmy_marmoset/*.jpg'),\n",
    "       8:glob('sample/silvery_marmoset/*.jpg'),\n",
    "       9:glob('sample/white_headed_capuchin/*.jpg')}.get(i)\n",
    "    \n",
    "    random.shuffle(t)\n",
    "    \n",
    "    lent = int(len(t)*0.8)\n",
    "        \n",
    "    for j in range(lent):\n",
    "        train_img.append([cv2.resize(cv2.imread(t[0], cv2.IMREAD_COLOR), dsize=(128, 128), interpolation=cv2.INTER_AREA), \n",
    "                      label[t[0].split('\\\\')[-2].split('/')[-1]]])\n",
    "        train_img.append([cv2.resize(cv2.flip(cv2.imread(t[0], 1), cv2.IMREAD_COLOR), dsize=(128, 128), interpolation=cv2.INTER_AREA), \n",
    "                      label[t[0].split('\\\\')[-2].split('/')[-1]]])\n",
    "        t.pop(0)\n",
    "\n",
    "    lent = int(len(t)*0.5)\n",
    "    for j in range(lent):\n",
    "        val_img.append([cv2.resize(cv2.imread(t[0], cv2.IMREAD_COLOR), dsize=(128, 128), interpolation=cv2.INTER_AREA), \n",
    "                     label[t[0].split('\\\\')[-2].split('/')[-1]]])\n",
    "        t.pop(0)\n",
    "        \n",
    "    lent = len(t)\n",
    "    for j in range(lent):\n",
    "        test_img.append([cv2.resize(cv2.imread(t[0], cv2.IMREAD_COLOR), dsize=(128, 128), interpolation=cv2.INTER_AREA), \n",
    "                     label[t[0].split('\\\\')[-2].split('/')[-1]]])\n",
    "        t.pop(0)\n",
    "        \n",
    "    #test_img.append(cv2.flip(test_img[-1], 1))\n",
    "    \n",
    "    print (i, \" done\")\n"
   ]
  },
  {
   "cell_type": "code",
   "execution_count": null,
   "metadata": {},
   "outputs": [],
   "source": [
    "len(train_img)"
   ]
  },
  {
   "cell_type": "code",
   "execution_count": null,
   "metadata": {},
   "outputs": [],
   "source": [
    "len(val_img)"
   ]
  },
  {
   "cell_type": "code",
   "execution_count": null,
   "metadata": {},
   "outputs": [],
   "source": [
    "len(test_img)"
   ]
  },
  {
   "cell_type": "code",
   "execution_count": null,
   "metadata": {},
   "outputs": [],
   "source": [
    "random.shuffle(train_img)\n",
    "random.shuffle(test_img)\n",
    "random.shuffle(val_img)"
   ]
  },
  {
   "cell_type": "code",
   "execution_count": null,
   "metadata": {},
   "outputs": [],
   "source": [
    "plt.imshow(train_img[10][0])"
   ]
  },
  {
   "cell_type": "code",
   "execution_count": null,
   "metadata": {},
   "outputs": [],
   "source": [
    "k[train_img[10][1]]"
   ]
  },
  {
   "cell_type": "code",
   "execution_count": 27,
   "metadata": {},
   "outputs": [],
   "source": [
    "IMG_R = 128\n",
    "IMG_C = 128\n",
    "IMG_CH = 3\n",
    "\n",
    "num_class = 10\n"
   ]
  },
  {
   "cell_type": "code",
   "execution_count": 28,
   "metadata": {},
   "outputs": [],
   "source": [
    "with tf.Graph().as_default() as tfgp:\n",
    "    X = tf.placeholder(tf.float32, [None, IMG_R, IMG_C, IMG_CH])\n",
    "    Y = tf.placeholder(tf.int32, [None])\n",
    "\n",
    "    with tf.variable_scope('CNN'):\n",
    "        \n",
    "        layer = tf.layers.conv2d(X, 48, 5, (2, 2), padding='same', activation=tf.nn.relu)\n",
    "        layer = tf.layers.max_pooling2d(layer, (2, 2), (2, 2))\n",
    "        layer = tf.layers.conv2d(layer, 128, 3, (1, 1), padding='same', activation=tf.nn.relu)        \n",
    "        layer = tf.layers.max_pooling2d(layer, (2, 2), (2, 2))\n",
    "        layer = tf.layers.conv2d(layer, 128, 3, (1, 1), padding='same', activation=tf.nn.relu)\n",
    "        layer = tf.layers.conv2d(layer, 128, 3, (1, 1), padding='same', activation=tf.nn.relu)\n",
    "        layer = tf.layers.max_pooling2d(layer, (3, 3), (2, 2))\n",
    "        layer = tf.layers.flatten(layer)\n",
    "      \n",
    "        #layer = tf.layers.dense(layer, 1024)\n",
    "        out = tf.layers.dense(layer, num_class)\n",
    "\n",
    "    with tf.variable_scope('Loss'):\n",
    "        loss = tf.reduce_mean(tf.nn.sparse_softmax_cross_entropy_with_logits(labels=Y, logits=out))\n",
    "\n",
    "    train = tf.train.AdamOptimizer(1e-3).minimize(loss)\n",
    "    saver = tf.train.Saver()"
   ]
  },
  {
   "cell_type": "code",
   "execution_count": 24,
   "metadata": {},
   "outputs": [],
   "source": [
    "IMG_R = 128\n",
    "IMG_C = 128\n",
    "IMG_CH = 3\n",
    "\n",
    "num_class = 10\n",
    "\n",
    "with tf.Graph().as_default() as tfgp:\n",
    "    X = tf.placeholder(tf.float32, [None, IMG_R, IMG_C, IMG_CH])\n",
    "    Y = tf.placeholder(tf.int32, [None])\n",
    "\n",
    "    with tf.variable_scope('CNN'):\n",
    "        \n",
    "        layer = tf.layers.conv2d(X, 48, 5, (2, 2), padding='same', activation=tf.nn.relu)\n",
    "        layer = tf.layers.max_pooling2d(layer, (2, 2), (2, 2))\n",
    "        layer = tf.layers.conv2d(layer, 128, 3, (1, 1), padding='same', activation=tf.nn.relu)        \n",
    "        layer = tf.layers.max_pooling2d(layer, (2, 2), (2, 2))\n",
    "        layer = tf.layers.conv2d(layer, 128, 3, (1, 1), padding='same', activation=tf.nn.relu)\n",
    "        layer = tf.layers.conv2d(layer, 128, 3, (1, 1), padding='same', activation=tf.nn.relu)\n",
    "        layer = tf.layers.max_pooling2d(layer, (3, 3), (2, 2))\n",
    "        layer = tf.layers.flatten(layer)\n",
    "        out = tf.layers.dense(layer, num_class)\n",
    "\n",
    "    with tf.variable_scope('Loss'):\n",
    "        loss = tf.reduce_mean(tf.nn.sparse_softmax_cross_entropy_with_logits(labels=Y, logits=out))\n",
    "\n",
    "    train = tf.train.AdamOptimizer(1e-3).minimize(loss)\n",
    "    saver = tf.train.Saver()"
   ]
  },
  {
   "cell_type": "code",
   "execution_count": 29,
   "metadata": {},
   "outputs": [
    {
     "data": {
      "text/plain": [
       "416970"
      ]
     },
     "execution_count": 29,
     "metadata": {},
     "output_type": "execute_result"
    }
   ],
   "source": [
    "np.sum([np.product(var.shape) for var in tfgp.get_collection('trainable_variables')]).value"
   ]
  },
  {
   "cell_type": "code",
   "execution_count": 31,
   "metadata": {},
   "outputs": [
    {
     "data": {
      "text/plain": [
       "[<tf.Variable 'CNN/conv2d/kernel:0' shape=(5, 5, 3, 48) dtype=float32_ref>,\n",
       " <tf.Variable 'CNN/conv2d/bias:0' shape=(48,) dtype=float32_ref>,\n",
       " <tf.Variable 'CNN/conv2d_1/kernel:0' shape=(3, 3, 48, 128) dtype=float32_ref>,\n",
       " <tf.Variable 'CNN/conv2d_1/bias:0' shape=(128,) dtype=float32_ref>,\n",
       " <tf.Variable 'CNN/conv2d_2/kernel:0' shape=(3, 3, 128, 128) dtype=float32_ref>,\n",
       " <tf.Variable 'CNN/conv2d_2/bias:0' shape=(128,) dtype=float32_ref>,\n",
       " <tf.Variable 'CNN/conv2d_3/kernel:0' shape=(3, 3, 128, 128) dtype=float32_ref>,\n",
       " <tf.Variable 'CNN/conv2d_3/bias:0' shape=(128,) dtype=float32_ref>,\n",
       " <tf.Variable 'CNN/dense/kernel:0' shape=(6272, 10) dtype=float32_ref>,\n",
       " <tf.Variable 'CNN/dense/bias:0' shape=(10,) dtype=float32_ref>]"
      ]
     },
     "execution_count": 31,
     "metadata": {},
     "output_type": "execute_result"
    }
   ],
   "source": [
    "tfgp.get_collection('trainable_variables')"
   ]
  },
  {
   "cell_type": "code",
   "execution_count": 30,
   "metadata": {},
   "outputs": [],
   "source": [
    "train_image = []\n",
    "train_label = []\n",
    "test_image = []\n",
    "test_label = []\n",
    "val_image = []\n",
    "val_label = []\n",
    "val = []\n",
    "tra = []\n",
    "cnt=0\n",
    "\n",
    "bs=128"
   ]
  },
  {
   "cell_type": "code",
   "execution_count": null,
   "metadata": {},
   "outputs": [],
   "source": [
    "lentrain = (len(train_img))\n",
    "len(test_image)"
   ]
  },
  {
   "cell_type": "code",
   "execution_count": null,
   "metadata": {},
   "outputs": [],
   "source": [
    "lenval = len(val_img)\n",
    "for i in range(lenval):\n",
    "    val_image.append(val_img[i][0])\n",
    "    val_label.append(val_img[i][1])"
   ]
  },
  {
   "cell_type": "code",
   "execution_count": null,
   "metadata": {
    "scrolled": true
   },
   "outputs": [],
   "source": [
    "with tf.Session(graph=tfgp) as sess:\n",
    "    sess.run(tf.global_variables_initializer()) \n",
    "    checkpoint = tf.train.latest_checkpoint('logs')\n",
    "    if checkpoint:\n",
    "        saver.restore(sess, checkpoint)\n",
    "    for i in range(2000):\n",
    "        #pdb.set_trace()\n",
    "        for j in range(bs):\n",
    "            train_image.append(train_img[0][0])\n",
    "            train_label.append(train_img[0][1])\n",
    "            train_img.append(train_img.pop(0))\n",
    "            \n",
    "        _, loss_t = sess.run([train, loss], feed_dict={X: train_image, Y: train_label})\n",
    "        #print(i, l)\n",
    "        tra.append(loss_t)\n",
    "\n",
    "        for j in range(bs):\n",
    "            train_image.pop(0)\n",
    "            train_label.pop(0)\n",
    "        \n",
    "        \n",
    "        if i%50==0:\n",
    "            loss_t = sess.run(loss, feed_dict={X: val_image, Y: val_label})\n",
    "            val.append(loss_t)\n",
    "    \n",
    "            print(\"[\", cnt*50, \"]\", val[-1])\n",
    "            cnt = cnt+1\n",
    "    \n",
    "    print(\"val: \", np.argmin(val))\n",
    "    saver.save(sess, 'logs/model.ckpt', global_step=i + 1)"
   ]
  },
  {
   "cell_type": "code",
   "execution_count": null,
   "metadata": {
    "scrolled": true
   },
   "outputs": [],
   "source": [
    "for i in range(int(len(tra))):\n",
    "    print (\"[%d]\" %i, tra[i])"
   ]
  },
  {
   "cell_type": "code",
   "execution_count": null,
   "metadata": {},
   "outputs": [],
   "source": []
  },
  {
   "cell_type": "code",
   "execution_count": null,
   "metadata": {},
   "outputs": [],
   "source": [
    "acc = 0\n",
    "cnt = 1\n",
    "lentest = len(test_img)\n"
   ]
  },
  {
   "cell_type": "code",
   "execution_count": null,
   "metadata": {},
   "outputs": [],
   "source": [
    "lentest"
   ]
  },
  {
   "cell_type": "code",
   "execution_count": null,
   "metadata": {
    "scrolled": true
   },
   "outputs": [],
   "source": [
    "with tf.Session(graph=tfgp) as sess:\n",
    "    sess.run(tf.global_variables_initializer())\n",
    "    checkpoint = tf.train.latest_checkpoint('logs')\n",
    "    if checkpoint:\n",
    "        saver.restore(sess, checkpoint)\n",
    "    for i in range(lentest):\n",
    "        test_image.append(test_img[0][0])\n",
    "        logit = sess.run(out, feed_dict={X: test_image})\n",
    "        \n",
    "        if np.argmax(logit[0]) == test_img[0][1]:\n",
    "            acc += 1\n",
    "            cv2.imwrite(\"./true/%s%d.jpg\"%(k[test_img[0][1]],cnt), test_img[0][0])\n",
    "            cnt = cnt+1\n",
    "            \n",
    "        else:\n",
    "            print(logit[0], k[np.argmax(logit[0])], k[test_img[0][1]])\n",
    "            cv2.imwrite(\"./false/%s%d.jpg\"%(k[test_img[0][1]],cnt), test_img[0][0])\n",
    "            cnt = cnt+1\n",
    "            \n",
    "            #cv2.imshow(k[np.argmax(logit[0])], test_image[0])\n",
    "            #cv2.waitKey(0)\n",
    "            #cv2.destroyAllWindows()\n",
    "\n",
    "        test_img.append(test_img.pop(0))\n",
    "        test_image.pop(0)\n",
    "\n",
    "    print(acc / lentest)"
   ]
  },
  {
   "cell_type": "code",
   "execution_count": null,
   "metadata": {},
   "outputs": [],
   "source": []
  },
  {
   "cell_type": "code",
   "execution_count": null,
   "metadata": {},
   "outputs": [],
   "source": [
    "len(val)/2"
   ]
  },
  {
   "cell_type": "code",
   "execution_count": null,
   "metadata": {},
   "outputs": [],
   "source": []
  },
  {
   "cell_type": "code",
   "execution_count": null,
   "metadata": {},
   "outputs": [],
   "source": []
  },
  {
   "cell_type": "code",
   "execution_count": null,
   "metadata": {},
   "outputs": [],
   "source": []
  }
 ],
 "metadata": {
  "kernelspec": {
   "display_name": "Python 3",
   "language": "python",
   "name": "python3"
  },
  "language_info": {
   "codemirror_mode": {
    "name": "ipython",
    "version": 3
   },
   "file_extension": ".py",
   "mimetype": "text/x-python",
   "name": "python",
   "nbconvert_exporter": "python",
   "pygments_lexer": "ipython3",
   "version": "3.7.6"
  }
 },
 "nbformat": 4,
 "nbformat_minor": 4
}
